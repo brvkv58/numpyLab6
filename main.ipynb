{
 "cells": [
  {
   "metadata": {
    "ExecuteTime": {
     "end_time": "2025-02-27T23:50:25.276876Z",
     "start_time": "2025-02-27T23:50:24.952244Z"
    }
   },
   "cell_type": "code",
   "source": [
    "import numpy as np\n",
    "import time\n",
    "\n",
    "n = 1_000_000\n",
    "\n",
    "python_list = list(range(n))\n",
    "numpy_array = np.arange(n)\n",
    "\n",
    "start_time = time.time()\n",
    "squared_list = [x**2 for x in range(n)]\n",
    "list_time = time.time() - start_time\n",
    "\n",
    "start_time = time.time()\n",
    "squared_array = numpy_array**2\n",
    "numpy_time = time.time() - start_time\n",
    "difference = abs(list_time - numpy_time)\n",
    "print(\"-\" * 60)\n",
    "\n",
    "\n",
    "print(f\"{list_time:.4f} Seconds for squared_list.\")\n",
    "print(f\"{numpy_time:.4f} Seconds for NumPy.\")\n",
    "\n",
    "if (numpy_time > list_time):\n",
    "    print(f\"squared_list was faster?!; by {difference:.4f} seconds\")\n",
    "else:\n",
    "    print(f\"NumPy was faster by {difference:.4f} seconds.\")\n",
    "\n",
    "print(\"-\" * 60)\n",
    "\n",
    "\n",
    "\n"
   ],
   "id": "73cce390c8624c02",
   "outputs": [
    {
     "name": "stdout",
     "output_type": "stream",
     "text": [
      "------------------------------------------------------------\n",
      "0.2485 Seconds for squared_list.\n",
      "0.0109 Seconds for NumPy.\n",
      "NumPy was faster by 0.2375 seconds.\n",
      "------------------------------------------------------------\n"
     ]
    }
   ],
   "execution_count": 97
  },
  {
   "metadata": {
    "ExecuteTime": {
     "end_time": "2025-02-27T23:50:15.505251Z",
     "start_time": "2025-02-27T23:50:15.492290Z"
    }
   },
   "cell_type": "code",
   "source": [
    "import numpy as np\n",
    "\n",
    "matrix = np.random.rand(4, 4)\n",
    "matrix = np.round(matrix, 2)\n",
    "print(\"-\" * 60)\n",
    "print(\"Matrix:\")\n",
    "print(matrix)\n",
    "\n",
    "print(\"-\" * 60)\n",
    "print (f\"{matrix.shape} Shape\")\n",
    "print (f\"{matrix.size} is the size of the matrix.\")\n",
    "print (f\"{matrix.ndim} Dimensions\")"
   ],
   "id": "887452601eeba440",
   "outputs": [
    {
     "name": "stdout",
     "output_type": "stream",
     "text": [
      "------------------------------------------------------------\n",
      "Matrix:\n",
      "[[0.65 0.05 0.18 0.88]\n",
      " [0.47 0.57 0.79 0.77]\n",
      " [0.96 0.18 0.33 0.53]\n",
      " [0.76 0.01 0.58 0.48]]\n",
      "------------------------------------------------------------\n",
      "(4, 4) Shape\n",
      "16 is the size of the matrix.\n",
      "2 Dimensions\n"
     ]
    }
   ],
   "execution_count": 96
  },
  {
   "metadata": {
    "ExecuteTime": {
     "end_time": "2025-02-27T23:50:45.037881Z",
     "start_time": "2025-02-27T23:50:45.028682Z"
    }
   },
   "cell_type": "code",
   "source": [
    "import numpy as np\n",
    "\n",
    "matrix = np.eye(3, 3)\n",
    "array = np.random.randint(1, 101, size = 20)\n",
    "print(\"-\" * 60)\n",
    "print(\"3x3 Identity Matrix:\")\n",
    "print(matrix)\n",
    "print(\"-\" * 60)\n",
    "print(array)"
   ],
   "id": "7936268ef087747e",
   "outputs": [
    {
     "name": "stdout",
     "output_type": "stream",
     "text": [
      "------------------------------------------------------------\n",
      "3x3 Identity Matrix:\n",
      "[[1. 0. 0.]\n",
      " [0. 1. 0.]\n",
      " [0. 0. 1.]]\n",
      "------------------------------------------------------------\n",
      "[89 57 18  5  2 94 72 11 90 34 95 28 82 36 46  9 13 96 60  9]\n"
     ]
    }
   ],
   "execution_count": 98
  },
  {
   "metadata": {
    "ExecuteTime": {
     "end_time": "2025-02-27T23:59:42.123806Z",
     "start_time": "2025-02-27T23:59:42.118335Z"
    }
   },
   "cell_type": "code",
   "source": [
    "matrix = np.random.randint(1,11, size = (5, 5))\n",
    "matrix = matrix.round(1)\n",
    "print(matrix)\n",
    "print(\"-\" * 60)\n",
    "\n",
    "print(\"Third row from above matrix:\")\n",
    "third_row = matrix[2, :]\n",
    "print(third_row)\n",
    "print(\"-\" * 60)\n",
    "\n",
    "print(\"Last two columns:\")\n",
    "last_columns = matrix[:, -2:]\n",
    "print(last_columns)\n",
    "print(\"-\" * 60)\n",
    "\n",
    "print(\"3x3 Submatrix from the center:\")\n",
    "submatrix = matrix[1:4, 1:4]\n",
    "print(submatrix)"
   ],
   "id": "49ae123907111133",
   "outputs": [
    {
     "name": "stdout",
     "output_type": "stream",
     "text": [
      "[[10  2  4  7  2]\n",
      " [ 4  3  7  4  9]\n",
      " [10  2  8  1  6]\n",
      " [ 8  7  7  5  1]\n",
      " [ 7  5 10  4  6]]\n",
      "------------------------------------------------------------\n",
      "Third row from above matrix:\n",
      "[10  2  8  1  6]\n",
      "------------------------------------------------------------\n",
      "Last two columns:\n",
      "[[7 2]\n",
      " [4 9]\n",
      " [1 6]\n",
      " [5 1]\n",
      " [4 6]]\n",
      "------------------------------------------------------------\n",
      "3x3 Submatrix from the center:\n",
      "[[3 7 4]\n",
      " [2 8 1]\n",
      " [7 7 5]]\n"
     ]
    }
   ],
   "execution_count": 124
  },
  {
   "metadata": {
    "ExecuteTime": {
     "end_time": "2025-02-28T00:03:49.223716Z",
     "start_time": "2025-02-28T00:03:49.210745Z"
    }
   },
   "cell_type": "code",
   "source": [
    "import numpy as np\n",
    "\n",
    "array = np.random.randint(1, 20, size = (20))\n",
    "print(\"1D array of 20 elements:\")\n",
    "print(array)\n",
    "print(\"-\" * 60)\n",
    "\n",
    "matrix = array.reshape(4,5)\n",
    "print(\"Reshaping...\")\n",
    "print(\"-\" * 60)\n",
    "\n",
    "print(\"4x5 Matrix:\")\n",
    "print(matrix)"
   ],
   "id": "4edc290e0de9070b",
   "outputs": [
    {
     "name": "stdout",
     "output_type": "stream",
     "text": [
      "1D array of 20 elements:\n",
      "[18 15  9  9  3  9 11  8 11 16 14  2 13 15  8 11 16  9  1  8]\n",
      "------------------------------------------------------------\n",
      "Reshaping...\n",
      "------------------------------------------------------------\n",
      "4x5 Matrix:\n",
      "[[18 15  9  9  3]\n",
      " [ 9 11  8 11 16]\n",
      " [14  2 13 15  8]\n",
      " [11 16  9  1  8]]\n"
     ]
    }
   ],
   "execution_count": 136
  }
 ],
 "metadata": {
  "kernelspec": {
   "name": "python3",
   "language": "python",
   "display_name": "Python 3 (ipykernel)"
  }
 },
 "nbformat": 5,
 "nbformat_minor": 9
}
